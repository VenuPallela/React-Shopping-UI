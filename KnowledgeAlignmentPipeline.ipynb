{
  "cells": [
    {
      "cell_type": "markdown",
      "metadata": {
        "id": "view-in-github",
        "colab_type": "text"
      },
      "source": [
        "<a href=\"https://colab.research.google.com/github/VenuPallela/React-Shopping-UI/blob/main/KnowledgeAlignmentPipeline.ipynb\" target=\"_parent\"><img src=\"https://colab.research.google.com/assets/colab-badge.svg\" alt=\"Open In Colab\"/></a>"
      ]
    },
    {
      "cell_type": "code",
      "source": [
        "import requests\n",
        "\n",
        "def fetch_wikipedia_knowledge(target):\n",
        "    \"\"\"\n",
        "    Fetch a summary of the target from Wikipedia using its API.\n",
        "    \"\"\"\n",
        "    url = f\"https://en.wikipedia.org/api/rest_v1/page/summary/{target}\"\n",
        "    response = requests.get(url)\n",
        "    if response.status_code == 200:\n",
        "        data = response.json()\n",
        "        return data.get('extract', 'No summary available')\n",
        "    else:\n",
        "        return 'Wikipedia fetch failed'\n",
        "\n",
        "from bs4 import BeautifulSoup\n",
        "import requests\n",
        "\n",
        "def fetch_google_results(target):\n",
        "    \"\"\"\n",
        "    Fetch Google search results snippets.\n",
        "    \"\"\"\n",
        "    headers = {\"User-Agent\": \"Mozilla/5.0\"}\n",
        "    query = f\"https://www.google.com/search?q={target}\"\n",
        "    response = requests.get(query, headers=headers)\n",
        "    if response.status_code == 200:\n",
        "        soup = BeautifulSoup(response.text, \"html.parser\")\n",
        "        snippets = [tag.text for tag in soup.find_all(\"span\", class_=\"aCOpRe\")]\n",
        "        return snippets\n",
        "    else:\n",
        "        return [\"Google search fetch failed\"]\n",
        "\n",
        "from sklearn.feature_extraction.text import TfidfVectorizer\n",
        "\n",
        "def rank_and_filter_snippets(target, snippets):\n",
        "    \"\"\"\n",
        "    Use TF-IDF to rank Google snippets for relevance to the target.\n",
        "    \"\"\"\n",
        "    documents = [target] + snippets\n",
        "    vectorizer = TfidfVectorizer(stop_words='english')\n",
        "    tfidf_matrix = vectorizer.fit_transform(documents)\n",
        "    scores = tfidf_matrix.toarray()[0, 1:]  # Scores for snippets\n",
        "    ranked_snippets = sorted(zip(scores, snippets), reverse=True)\n",
        "    return [snippet for _, snippet in ranked_snippets[:5]]  # Top 5 snippets\n",
        "\n",
        "from sentence_transformers import SentenceTransformer\n",
        "from sklearn.metrics.pairwise import cosine_similarity\n",
        "\n",
        "model = SentenceTransformer('all-MiniLM-L6-v2')\n",
        "\n",
        "def semantic_similarity_verification(target, wiki_summary, snippets):\n",
        "    \"\"\"\n",
        "    Compute cosine similarity between target embeddings and text sources.\n",
        "    \"\"\"\n",
        "    texts = [wiki_summary] + snippets\n",
        "    embeddings = model.encode([target] + texts)\n",
        "    similarities = cosine_similarity([embeddings[0]], embeddings[1:])[0]\n",
        "\n",
        "    max_index = similarities.argmax()\n",
        "    best_source = \"Wikipedia\" if max_index == 0 else f\"Google Snippet {max_index}\"\n",
        "    best_text = texts[max_index]\n",
        "\n",
        "    return best_source, best_text\n",
        "\n",
        "def knowledge_alignment_pipeline(target):\n",
        "    \"\"\"\n",
        "    Orchestrates the entire pipeline for a target.\n",
        "    \"\"\"\n",
        "    print(f\"Processing: {target}\")\n",
        "\n",
        "    # Step 1: Fetch Wikipedia Knowledge\n",
        "    wiki_summary = fetch_wikipedia_knowledge(target)\n",
        "\n",
        "    # Step 2: Fetch Google Search Results\n",
        "    google_snippets = fetch_google_results(target)\n",
        "\n",
        "    # Step 3: Rank and Filter Google Snippets\n",
        "    ranked_snippets = rank_and_filter_snippets(target, google_snippets)\n",
        "\n",
        "    # Step 4: Semantic Similarity Verification\n",
        "    best_source, best_text = semantic_similarity_verification(target, wiki_summary, ranked_snippets)\n",
        "\n",
        "    return {\n",
        "        \"Target\": target,\n",
        "        \"Best Source\": best_source,\n",
        "        \"Knowledge\": best_text,\n",
        "        \"Wikipedia Summary\": wiki_summary,\n",
        "        \"Google Snippets\": ranked_snippets\n",
        "    }\n",
        "\n",
        "if __name__ == \"__main__\":\n",
        "    target = \"Climate Change\"\n",
        "    result = knowledge_alignment_pipeline(target)\n",
        "    print(result)\n",
        "\n",
        "import csv\n",
        "\n",
        "def process_targets_from_csv(file_path):\n",
        "    \"\"\"\n",
        "    Process multiple targets from a CSV file.\n",
        "    \"\"\"\n",
        "    results = []\n",
        "    with open(file_path, 'r') as file:\n",
        "        reader = csv.reader(file)\n",
        "        next(reader)  # Skip header\n",
        "        for row in reader:\n",
        "            target = row[0]\n",
        "            result = knowledge_alignment_pipeline(target)\n",
        "            results.append(result)\n",
        "    return results"
      ],
      "metadata": {
        "id": "zLFSUZuITErX",
        "outputId": "c2b679ae-ac7c-4276-842e-19a0484434de",
        "colab": {
          "base_uri": "https://localhost:8080/"
        }
      },
      "execution_count": null,
      "outputs": [
        {
          "output_type": "stream",
          "name": "stdout",
          "text": [
            "Processing: Climate Change\n",
            "{'Target': 'Climate Change', 'Best Source': 'Wikipedia', 'Knowledge': \"Present-day climate change includes both global warming—the ongoing increase in global average temperature—and its wider effects on Earth's climate. Climate change in a broader sense also includes previous long-term changes to Earth's climate. The current rise in global temperatures is driven by human activities, especially fossil fuel burning since the Industrial Revolution. Fossil fuel use, deforestation, and some agricultural and industrial practices release greenhouse gases. These gases absorb some of the heat that the Earth radiates after it warms from sunlight, warming the lower atmosphere. Carbon dioxide, the primary greenhouse gas driving global warming, has grown by about 50% and is at levels not seen for millions of years.\", 'Wikipedia Summary': \"Present-day climate change includes both global warming—the ongoing increase in global average temperature—and its wider effects on Earth's climate. Climate change in a broader sense also includes previous long-term changes to Earth's climate. The current rise in global temperatures is driven by human activities, especially fossil fuel burning since the Industrial Revolution. Fossil fuel use, deforestation, and some agricultural and industrial practices release greenhouse gases. These gases absorb some of the heat that the Earth radiates after it warms from sunlight, warming the lower atmosphere. Carbon dioxide, the primary greenhouse gas driving global warming, has grown by about 50% and is at levels not seen for millions of years.\", 'Google Snippets': []}\n"
          ]
        }
      ]
    }
  ],
  "metadata": {
    "colab": {
      "toc_visible": true,
      "provenance": [],
      "include_colab_link": true
    },
    "kernelspec": {
      "display_name": "Python 3",
      "name": "python3"
    }
  },
  "nbformat": 4,
  "nbformat_minor": 0
}